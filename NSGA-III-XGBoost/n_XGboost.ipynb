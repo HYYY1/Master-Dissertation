{
 "cells": [
  {
   "cell_type": "code",
   "execution_count": 1,
   "metadata": {},
   "outputs": [
    {
     "name": "stderr",
     "output_type": "stream",
     "text": [
      "d:\\anconda\\lib\\site-packages\\xgboost\\compat.py:93: FutureWarning: pandas.Int64Index is deprecated and will be removed from pandas in a future version. Use pandas.Index with the appropriate dtype instead.\n",
      "  from pandas import MultiIndex, Int64Index\n"
     ]
    }
   ],
   "source": [
    "# 比较不同特征子集并画出重要度图\n",
    "import numpy as np\n",
    "np.random.seed(1234)\n",
    "import pandas as pd\n",
    "from sklearn.preprocessing import MinMaxScaler\n",
    "from sklearn.metrics import roc_auc_score\n",
    "import xgboost as xgb\n",
    "from xgboost import  XGBClassifier\n",
    "from sklearn.metrics import accuracy_score\n",
    "from xgboost import plot_importance\n",
    "from matplotlib import pyplot as plt\n",
    "# 解决中文和负号显示问题\n",
    "plt.rcParams['font.sans-serif']=['SimHei']\n",
    "plt.rcParams['axes.unicode_minus'] = False\n",
    "# 使显示图标自适应\n",
    "plt.rcParams['figure.autolayout'] = True\n"
   ]
  },
  {
   "cell_type": "code",
   "execution_count": 2,
   "metadata": {},
   "outputs": [],
   "source": [
    "length1= 1350 \n",
    "length2= 1650\n",
    "data = \"HangSeng\"\n",
    "def load_data():\n",
    "    target_stock = pd.read_csv(\"./dataset/n5_\"+data+\".csv\")\n",
    "    y_train= target_stock[1:length1][\"trend\"]\n",
    "    y_test = target_stock[length1:length2-1][\"trend\"]\n",
    "    y_valid = target_stock[length2:-1][\"trend\"]\n",
    "    x_train = target_stock[0:length1-1]\n",
    "    x_test = target_stock[length1-1:length2-2]\n",
    "    x_valid = target_stock[length2-1:-2]\n",
    "    # 归一化\n",
    "    scaler = MinMaxScaler(feature_range=(0, 1))\n",
    "    x_train = scaler.fit_transform(x_train)\n",
    "    x_test = scaler.fit_transform(x_test)\n",
    "    x_valid = scaler.fit_transform(x_valid)\n",
    "    return x_train,y_train,x_test,y_test,x_valid,y_valid"
   ]
  },
  {
   "cell_type": "code",
   "execution_count": 3,
   "metadata": {},
   "outputs": [],
   "source": [
    "def eval(y_valid,y_pre):\n",
    "    TP, FN, FP, TN = 0,0,0,0\n",
    "    for i, j in zip(y_valid,y_pre):\n",
    "        if i==1 and j==1:\n",
    "            TP += 1\n",
    "        if i==1 and j==-1:\n",
    "            FN += 1\n",
    "        if i==-1 and j==1:\n",
    "            FP += 1\n",
    "        if i==-1 and j==-1:\n",
    "            TN += 1\n",
    "\n",
    "    accuracy=(TP+TN)/(TP+TN+FP+FN)*100\n",
    "    precision=TP/(TP+FP)*100\n",
    "    recall=TP/(TP+FN)*100\n",
    "    F1=2*((precision*recall)/(precision+recall))\n",
    "    auc = roc_auc_score(y_valid,y_pre)*100\n",
    "    return accuracy,precision,recall,F1,auc\n",
    "def aim():\n",
    "    x_train,y_train,x_test,y_test,x_valid,y_valid = load_data()\n",
    "    svc_clf = XGBClassifier()\n",
    "    svc_clf.fit(x_train,y_train)\n",
    "    y_pre = svc_clf.predict(x_valid)\n",
    "    acc = eval(y_valid,y_pre)\n",
    "    f = open ('./实验结果/SetCompare_.txt','a')\n",
    "    print(data,file = f)\n",
    "    print (\"Accuracy:%.2f, F1-score:%.2f, AUC:%.2f, NumofFeature:%d\"%(acc[0],acc[3],acc[4],x_train.shape[1]),file = f)\n",
    "    f.close()\n"
   ]
  },
  {
   "cell_type": "code",
   "execution_count": null,
   "metadata": {},
   "outputs": [],
   "source": [
    "# aim()"
   ]
  },
  {
   "cell_type": "code",
   "execution_count": 5,
   "metadata": {},
   "outputs": [
    {
     "name": "stdout",
     "output_type": "stream",
     "text": [
      "['trend', 'BOLLM', 'APO', 'CCI', 'DX', 'MACDFIX', 'MINUS_DI', 'ROCP', 'STOH', 'ADOSC', 'HT_TRENDLINE']\n"
     ]
    },
    {
     "data": {
      "text/plain": [
       "<Figure size 6000x4800 with 0 Axes>"
      ]
     },
     "metadata": {},
     "output_type": "display_data"
    },
    {
     "data": {
      "image/png": "[encoded data removed]",
      "text/plain": [
       "<Figure size 432x288 with 1 Axes>"
      ]
     },
     "metadata": {
      "needs_background": "light"
     },
     "output_type": "display_data"
    }
   ],
   "source": [
    "target_stock = pd.read_csv(\"./dataset/n11_\"+data+\".csv\")\n",
    "\n",
    "y_train= target_stock[1:length1][\"trend\"]\n",
    "y_test = target_stock[length1:length2-1][\"trend\"]\n",
    "y_valid = target_stock[length2:-1][\"trend\"]\n",
    "x_train = target_stock[0:length1-1]\n",
    "x_test = target_stock[length1-1:length2-2]\n",
    "x_valid = target_stock[length2-1:-2]\n",
    "# 归一化\n",
    "scaler = MinMaxScaler(feature_range=(0, 1))\n",
    "x_train = scaler.fit_transform(x_train)\n",
    "x_test = scaler.fit_transform(x_test)\n",
    "x_valid = scaler.fit_transform(x_valid)\n",
    "feature_names = target_stock.columns.tolist()\n",
    "print(feature_names)\n",
    "model = XGBClassifier()\n",
    "dtrain = xgb.DMatrix(x_train,y_train,feature_names=feature_names)\n",
    "# xgb.fit(x_train,y_train)\n",
    "model = xgb.train({},dtrain)\n",
    "plt.figure(figsize=(10,8),dpi=600)\n",
    "f_fig = plot_importance(model,title='特征重要性排序', xlabel='重要性得分', ylabel='特征')\n",
    "f_fig.figure.savefig(\"./实验结果/Feature importance.svg\",dpi=600)\n",
    "plt.show()"
   ]
  },
  {
   "cell_type": "code",
   "execution_count": null,
   "metadata": {},
   "outputs": [],
   "source": []
  },
  {
   "cell_type": "code",
   "execution_count": 30,
   "metadata": {},
   "outputs": [],
   "source": [
    "# 生成18个数据集\n",
    "from talib.abstract import *\n",
    "import pandas as pd\n",
    "target_stock = pd.read_csv(\"./dataset/n5_HangSeng.csv\")\n",
    "inputs = {\n",
    "    'open': target_stock[\"Open\"].values,\n",
    "    'high': target_stock[\"High\"].values,\n",
    "    'low': target_stock[\"Low\"].values,\n",
    "    'close': target_stock[\"Close\"].values,\n",
    "    'volume': target_stock[\"Volume\"].values\n",
    "}\n",
    "macd,macdsignal,macdhist = MACD(inputs)\n",
    "bu,bm,bl = BBANDS(inputs)\n",
    "target_stock['MACD']=macd\n",
    "target_stock['CCI']=CCI(inputs)\n",
    "target_stock['ATR']=ATR(inputs)\n",
    "target_stock['BBANDS']=bm\n",
    "target_stock['EMA20']=EMA(inputs,timeperiod=20)\n",
    "target_stock['MA10'] = MA(inputs,timeperiod=10)\n",
    "target_stock['MA5'] = MA(inputs,timeperiod=5)\n",
    "target_stock['MOM6'] = MOM(inputs,timeperiod=6)\n",
    "target_stock['MOM12'] = MA(inputs,timeperiod=12)\n",
    "target_stock['ROC'] = MA(inputs)\n",
    "target_stock['CMO'] = CMO(inputs)\n",
    "target_stock['WILLR'] = WILLR(inputs)\n",
    "target_stock.to_csv(\"./dataset/n18_HangSeng.csv\")  # 产生更多的数据"
   ]
  },
  {
   "cell_type": "code",
   "execution_count": null,
   "metadata": {},
   "outputs": [],
   "source": []
  }
 ],
 "metadata": {
  "interpreter": {
   "hash": "338aba4271a224d569376385c4ef2ad191ca33f3f4abbd4c7073be9dd1fea0fe"
  },
  "kernelspec": {
   "display_name": "Python 3.8.5",
   "language": "python",
   "name": "python3"
  },
  "language_info": {
   "codemirror_mode": {
    "name": "ipython",
    "version": 3
   },
   "file_extension": ".py",
   "mimetype": "text/x-python",
   "name": "python",
   "nbconvert_exporter": "python",
   "pygments_lexer": "ipython3",
   "version": "3.8.5"
  },
  "orig_nbformat": 4
 },
 "nbformat": 4,
 "nbformat_minor": 2
}
